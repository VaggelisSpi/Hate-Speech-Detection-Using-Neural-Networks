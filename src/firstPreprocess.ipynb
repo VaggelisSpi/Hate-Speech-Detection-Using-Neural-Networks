{
 "cells": [
  {
   "cell_type": "code",
   "execution_count": null,
   "metadata": {
    "lines_to_next_cell": 2
   },
   "outputs": [],
   "source": [
    "import pandas as pd\n",
    "from wordcloud import WordCloud\n",
    "from IPython.display import Image\n",
    "from PIL import Image as imgWordcloud\n",
    "import numpy as np\n",
    "import re\n",
    "\n",
    "pd.options.display.max_colwidth = 1000"
   ]
  },
  {
   "cell_type": "markdown",
   "metadata": {},
   "source": [
    "Load the data"
   ]
  },
  {
   "cell_type": "code",
   "execution_count": null,
   "metadata": {},
   "outputs": [],
   "source": [
    "data = pd.read_csv('../MyData/labeled_data.csv')\n",
    "size = len(data)\n",
    "data[:10]"
   ]
  },
  {
   "cell_type": "markdown",
   "metadata": {},
   "source": [
    "Let's have a peek at our classes"
   ]
  },
  {
   "cell_type": "code",
   "execution_count": null,
   "metadata": {},
   "outputs": [],
   "source": [
    "print(data[\"class\"].unique())"
   ]
  },
  {
   "cell_type": "markdown",
   "metadata": {},
   "source": [
    "Our classes are labeled with numbers, for our ease we will map each number to a word. We have 3 classes, hate speech, offensive langaue and nuetral speech."
   ]
  },
  {
   "cell_type": "code",
   "execution_count": null,
   "metadata": {},
   "outputs": [],
   "source": [
    "data = data.drop(labels=['count', 'hate_speech', 'offensive_language', 'neither'], axis='columns')\n",
    "\n",
    "# Change classes from numbers to words. Easier for me\n",
    "data['class'] = data['class'].map({0:'hate speech', \n",
    "                                   1:'offensive language', \n",
    "                                   2:'neither'})\n",
    "print(data['class'].unique())"
   ]
  },
  {
   "cell_type": "markdown",
   "metadata": {},
   "source": [
    "We will now perform some simple preprocessing by removing info regarding retweets, that appear in the beggining of eacg tweet since this is connsidered noise. "
   ]
  },
  {
   "cell_type": "code",
   "execution_count": null,
   "metadata": {},
   "outputs": [],
   "source": [
    "def preprocessText(initText):\n",
    "    processedText = initText\n",
    "    \n",
    "    # Tweets are loaded between quotation marks and we will remove them\n",
    "    #Remove the \" from the begining\n",
    "    processedText = re.sub(r'^\\\"+', '', processedText)\n",
    "    \n",
    "    # And the end\n",
    "    processedText = re.sub(r'\\\"+$', '', processedText)\n",
    "    \n",
    "    # Remove all the random spaces at the begining \n",
    "    processedText = re.sub(r'^ +', '', processedText)\n",
    "\n",
    "    # And any trailing spaces too \n",
    "    processedText = re.sub(r' +$', '', processedText)\n",
    "    \n",
    "    return processedText\n",
    "\n",
    "def clear_first(text):\n",
    "    processedText = text\n",
    "    # Remove the retweet info\n",
    "    processedText = re.sub(r'^([!| |\\\"|RT]*(\\B@\\w\\w+)* *\\w*)*:', '',\n",
    "                           processedText)\n",
    "    return processedText"
   ]
  },
  {
   "cell_type": "code",
   "execution_count": null,
   "metadata": {},
   "outputs": [],
   "source": [
    "for i, row in data.iterrows():\n",
    "    initText = preprocessText(row[\"tweet\"])\n",
    "    data.iat[i, 2] = initText\n",
    "\n",
    "data[:10]"
   ]
  },
  {
   "cell_type": "markdown",
   "metadata": {},
   "source": [
    "Convert HTML"
   ]
  },
  {
   "cell_type": "code",
   "execution_count": null,
   "metadata": {},
   "outputs": [],
   "source": [
    "from html.parser import HTMLParser\n",
    "import lxml, lxml.html\n",
    "\n",
    "for i, row in data.iterrows():\n",
    "    text = lxml.html.document_fromstring(row[\"tweet\"]).text_content()\n",
    "    data.iat[i, 2] = text\n",
    "\n",
    "data[:10]"
   ]
  },
  {
   "cell_type": "markdown",
   "metadata": {},
   "source": [
    "Remove the rewteet info "
   ]
  },
  {
   "cell_type": "code",
   "execution_count": null,
   "metadata": {},
   "outputs": [],
   "source": [
    "for i, row in data.iterrows():\n",
    "    text = clear_first(row[\"tweet\"])\n",
    "    data.iat[i, 2] = text\n",
    "\n",
    "data[:10]"
   ]
  },
  {
   "cell_type": "markdown",
   "metadata": {},
   "source": [
    "We will use two classes for our project, hate speech and neutral so we will merge hate speech and offensive langauge classes to one hate speech class\n"
   ]
  },
  {
   "cell_type": "code",
   "execution_count": null,
   "metadata": {},
   "outputs": [],
   "source": [
    "data['class'] = data['class'].map({'hate speech': 'hate speech', \n",
    "                                   'offensive language': 'hate speech', \n",
    "                                   'neutral': 'neutral'})\n",
    "\n",
    "data[:10]"
   ]
  },
  {
   "cell_type": "markdown",
   "metadata": {},
   "source": [
    "Save all the data to csv"
   ]
  },
  {
   "cell_type": "code",
   "execution_count": null,
   "metadata": {},
   "outputs": [],
   "source": [
    "data.to_csv(\"twitter_hate_data.csv\")"
   ]
  }
 ],
 "metadata": {
  "jupytext": {
   "cell_metadata_filter": "-all",
   "formats": "ipynb,py",
   "main_language": "python",
   "notebook_metadata_filter": "-all"
  },
  "kernelspec": {
   "display_name": "Python 3",
   "language": "python",
   "name": "python3"
  },
  "language_info": {
   "codemirror_mode": {
    "name": "ipython",
    "version": 3
   },
   "file_extension": ".py",
   "mimetype": "text/x-python",
   "name": "python",
   "nbconvert_exporter": "python",
   "pygments_lexer": "ipython3",
   "version": "3.6.9"
  }
 },
 "nbformat": 4,
 "nbformat_minor": 4
}
